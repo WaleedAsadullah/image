{
 "cells": [
  {
   "cell_type": "code",
   "execution_count": 2,
   "metadata": {},
   "outputs": [],
   "source": [
    "from PIL import Image, ImageEnhance, ImageFilter\n",
    "import os \n",
    "\n",
    "for item in os.listdir():\n",
    "     if item.endswith('.jpg'):\n",
    "            img1 = Image.open(item)\n",
    "            img1.show()\n",
    "            MAX_SIZE = (512,512)\n",
    "            img1.thumbnail(MAX_SIZE)\n",
    "            filename,extension = os.path.splitext(item)\n",
    "            img1.save(f'{filename}small.jpg')"
   ]
  },
  {
   "cell_type": "code",
   "execution_count": null,
   "metadata": {},
   "outputs": [],
   "source": []
  }
 ],
 "metadata": {
  "kernelspec": {
   "display_name": "Python 3",
   "language": "python",
   "name": "python3"
  },
  "language_info": {
   "codemirror_mode": {
    "name": "ipython",
    "version": 3
   },
   "file_extension": ".py",
   "mimetype": "text/x-python",
   "name": "python",
   "nbconvert_exporter": "python",
   "pygments_lexer": "ipython3",
   "version": "3.7.3"
  }
 },
 "nbformat": 4,
 "nbformat_minor": 2
}
